{
  "nbformat": 4,
  "nbformat_minor": 0,
  "metadata": {
    "colab": {
      "provenance": [],
      "authorship_tag": "ABX9TyPRQZmINbeePWC/bQ8GP/gg",
      "include_colab_link": true
    },
    "kernelspec": {
      "name": "python3",
      "display_name": "Python 3"
    },
    "language_info": {
      "name": "python"
    }
  },
  "cells": [
    {
      "cell_type": "markdown",
      "metadata": {
        "id": "view-in-github",
        "colab_type": "text"
      },
      "source": [
        "<a href=\"https://colab.research.google.com/github/nadaoteif/PandasAsgmt2/blob/main/PandasAsgmt2.ipynb\" target=\"_parent\"><img src=\"https://colab.research.google.com/assets/colab-badge.svg\" alt=\"Open In Colab\"/></a>"
      ]
    },
    {
      "cell_type": "code",
      "execution_count": null,
      "metadata": {
        "id": "jx9J1Zz_BTHg"
      },
      "outputs": [],
      "source": [
        "import pandas as pd\n",
        "import numpy as np"
      ]
    },
    {
      "cell_type": "code",
      "source": [
        "df = pd.read_csv('https://archive.ics.uci.edu/ml/machine-learning-databases/adult/adult.data',\n",
        "                 names = [\"age\", \"workclass\", \"fnlwgt\",\"education\", \"education-num\",\"marital-status\", \"occupation\",\"relationship\", \"race\",\"sex\",\"capital-gain\",\"capital-loss\",\"hours-per-week\",\"native-country\",\">50K, <=50K\"])\n",
        "print('The DataFrame is :\\n', df)"
      ],
      "metadata": {
        "id": "NSeKmo5qBVqw"
      },
      "execution_count": null,
      "outputs": []
    },
    {
      "cell_type": "code",
      "source": [
        "#  shape\n",
        "shape = df.shape \n",
        "print('\\nDataFrame Shape :', shape)\n",
        "print('\\nNumber of rows :', shape[0])\n",
        "print('\\nNumber of columns :', shape[1])"
      ],
      "metadata": {
        "id": "NQWr5q2XE5tH"
      },
      "execution_count": null,
      "outputs": []
    },
    {
      "cell_type": "code",
      "source": [
        "#  head\n",
        "df.head()"
      ],
      "metadata": {
        "id": "5-WDXDvAHPeQ"
      },
      "execution_count": null,
      "outputs": []
    },
    {
      "cell_type": "code",
      "source": [
        "#  tail\n",
        "df.tail()"
      ],
      "metadata": {
        "id": "CJPUo1C9Fwy0"
      },
      "execution_count": null,
      "outputs": []
    },
    {
      "cell_type": "code",
      "source": [
        "#  describe all numerical features\n",
        "df.describe(include=['number'])"
      ],
      "metadata": {
        "id": "DsF26BM5BX1v"
      },
      "execution_count": null,
      "outputs": []
    },
    {
      "cell_type": "code",
      "source": [
        "#  describe all categorical features\n",
        "df.describe(include=['category'])\n",
        "\n",
        "#  describe object features\n",
        "df.describe(include=['object'])"
      ],
      "metadata": {
        "id": "PU3VBszXKqLk"
      },
      "execution_count": null,
      "outputs": []
    },
    {
      "cell_type": "code",
      "source": [
        "#  mean for all numerical columns\n",
        "df.mean(numeric_only=True)"
      ],
      "metadata": {
        "id": "NkHrk5_iMMRV"
      },
      "execution_count": null,
      "outputs": []
    },
    {
      "cell_type": "code",
      "source": [
        "#  median for all numerical columns\n",
        "df.median(numeric_only=True)"
      ],
      "metadata": {
        "id": "CFtw1UonMj1Z"
      },
      "execution_count": null,
      "outputs": []
    },
    {
      "cell_type": "code",
      "source": [
        "#  mode for all numerical columns\n",
        "df.mode(numeric_only=True)"
      ],
      "metadata": {
        "id": "uFexKsqHMkY4"
      },
      "execution_count": null,
      "outputs": []
    },
    {
      "cell_type": "code",
      "source": [
        "#  standard deviation for all numerical columns\n",
        "df.std(numeric_only=True)"
      ],
      "metadata": {
        "id": "6NKxg5O8Mk5c"
      },
      "execution_count": null,
      "outputs": []
    },
    {
      "cell_type": "code",
      "source": [
        "#  sum for all numerical columns\n",
        "df.sum(numeric_only=True)"
      ],
      "metadata": {
        "id": "n9sRLAuaNU0p"
      },
      "execution_count": null,
      "outputs": []
    },
    {
      "cell_type": "code",
      "source": [
        "#  count for all columns\n",
        "col = df.columns\n",
        "print('Number of columns :', len(col))"
      ],
      "metadata": {
        "id": "5IguHFTMOROR"
      },
      "execution_count": null,
      "outputs": []
    },
    {
      "cell_type": "code",
      "source": [
        "#  How many missing values are in each column\n",
        "df.isnull().sum()"
      ],
      "metadata": {
        "id": "CzQ2AWbmOqYl"
      },
      "execution_count": null,
      "outputs": []
    },
    {
      "cell_type": "code",
      "source": [
        "# value_counts for all categorical columns\n",
        "df['category'].value_counts()"
      ],
      "metadata": {
        "id": "1NlgybC5PCP9"
      },
      "execution_count": null,
      "outputs": []
    },
    {
      "cell_type": "code",
      "source": [
        "# Subset your DataFrame based on one condition\n",
        "df.loc[[2,4,6]]"
      ],
      "metadata": {
        "id": "E5nJ9FB_QFEP"
      },
      "execution_count": null,
      "outputs": []
    },
    {
      "cell_type": "code",
      "source": [
        "# Subset your DataFrame based on two different conditions\n",
        "con2=df.loc[[2,4,6],['age','education']]\n",
        "con2"
      ],
      "metadata": {
        "id": "if3KqBo5Qn5S"
      },
      "execution_count": null,
      "outputs": []
    },
    {
      "cell_type": "code",
      "source": [
        "# Subset your DataFrame based on three different conditions\n",
        "con2[df['age'] > 40]"
      ],
      "metadata": {
        "id": "gVSCcuwhRJQ1"
      },
      "execution_count": null,
      "outputs": []
    },
    {
      "cell_type": "code",
      "source": [
        "# Use loc to slice your DataFrame for the 2 columns that returned the largest sum\n",
        "df.loc[:,['education-num','hours-per-week']].sum().max()"
      ],
      "metadata": {
        "id": "q9Djj0o8ZWxo"
      },
      "execution_count": null,
      "outputs": []
    },
    {
      "cell_type": "code",
      "source": [
        "# Use iloc to slice your DataFrame for the 2 columns that returned the largest mean\n",
        "df.iloc[:,[4,12]].mean().max()"
      ],
      "metadata": {
        "id": "-we_sFrYnNUB"
      },
      "execution_count": null,
      "outputs": []
    },
    {
      "cell_type": "code",
      "source": [
        "#Return the dtypes in the DataFrame.\n",
        "df.dtypes"
      ],
      "metadata": {
        "id": "6q1gCqJor0My"
      },
      "execution_count": null,
      "outputs": []
    },
    {
      "cell_type": "code",
      "source": [
        "# find non-missing values\n",
        "df.notnull()"
      ],
      "metadata": {
        "id": "CZkji-izzkYX"
      },
      "execution_count": null,
      "outputs": []
    }
  ]
}